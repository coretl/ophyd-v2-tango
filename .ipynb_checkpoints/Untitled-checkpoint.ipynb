{
 "cells": [
  {
   "cell_type": "code",
   "execution_count": 1,
   "id": "intensive-israel",
   "metadata": {},
   "outputs": [
    {
     "name": "stdout",
     "output_type": "stream",
     "text": [
      "attr._get_shape is weird. change it\n",
      "attr._get_shape is weird. change it\n",
      "Getting proxy from dict using dev name, better to use ophyd name\n",
      "Getting proxy from dict using dev name, better to use ophyd name\n"
     ]
    },
    {
     "ename": "TypeError",
     "evalue": "__init__() takes from 2 to 3 positional arguments but 4 were given",
     "output_type": "error",
     "traceback": [
      "\u001b[0;31m---------------------------------------------------------------------------\u001b[0m",
      "\u001b[0;31mTypeError\u001b[0m                                 Traceback (most recent call last)",
      "\u001b[0;32m<ipython-input-1-c3a68f18d856>\u001b[0m in \u001b[0;36m<module>\u001b[0;34m\u001b[0m\n\u001b[1;32m     22\u001b[0m \u001b[0;31m# RE(count([motor1],num=10,delay=None), LiveTable(['motor1:Position']))\u001b[0m\u001b[0;34m\u001b[0m\u001b[0;34m\u001b[0m\u001b[0;34m\u001b[0m\u001b[0m\n\u001b[1;32m     23\u001b[0m \u001b[0;31m#RE(scan([],motor1,0,1,11), LiveTable(['motor1:Position']))\u001b[0m\u001b[0;34m\u001b[0m\u001b[0;34m\u001b[0m\u001b[0;34m\u001b[0m\u001b[0m\n\u001b[0;32m---> 24\u001b[0;31m \u001b[0mRE\u001b[0m\u001b[0;34m(\u001b[0m\u001b[0mscan\u001b[0m\u001b[0;34m(\u001b[0m\u001b[0;34m[\u001b[0m\u001b[0;34m]\u001b[0m\u001b[0;34m,\u001b[0m\u001b[0mmotor1\u001b[0m\u001b[0;34m,\u001b[0m\u001b[0;36m0\u001b[0m\u001b[0;34m,\u001b[0m\u001b[0;36m1\u001b[0m\u001b[0;34m,\u001b[0m\u001b[0mmotor2\u001b[0m\u001b[0;34m,\u001b[0m\u001b[0;36m5\u001b[0m\u001b[0;34m,\u001b[0m\u001b[0;36m10\u001b[0m\u001b[0;34m,\u001b[0m\u001b[0;36m11\u001b[0m\u001b[0;34m)\u001b[0m\u001b[0;34m,\u001b[0m \u001b[0mLivePlot\u001b[0m\u001b[0;34m(\u001b[0m\u001b[0;34m'motor1:Position'\u001b[0m\u001b[0;34m,\u001b[0m\u001b[0;34m'motor2:Position'\u001b[0m\u001b[0;34m,\u001b[0m \u001b[0;34m'time'\u001b[0m\u001b[0;34m)\u001b[0m\u001b[0;34m)\u001b[0m\u001b[0;34m\u001b[0m\u001b[0;34m\u001b[0m\u001b[0m\n\u001b[0m",
      "\u001b[0;31mTypeError\u001b[0m: __init__() takes from 2 to 3 positional arguments but 4 were given"
     ]
    }
   ],
   "source": [
    "from bluesky.run_engine import get_bluesky_event_loop\n",
    "from bluesky.run_engine import RunEngine\n",
    "from bluesky.plans import count, scan\n",
    "import time\n",
    "from tango import set_green_mode, get_green_mode\n",
    "from tango import GreenMode\n",
    "import bluesky.plan_stubs as bps\n",
    "from bluesky.callbacks import LiveTable, LivePlot\n",
    "from bluesky.run_engine import call_in_bluesky_event_loop\n",
    "\n",
    "from herewego import *\n",
    "\n",
    "\n",
    "%matplotlib notebook\n",
    "# %matplotlib ipympl\n",
    "\n",
    "RE = RunEngine({})\n",
    "with CommsConnector():\n",
    "    motor1 = motor(\"motor/motctrl01/1\", \"motor1\")\n",
    "    motor2 = motor(\"motor/motctrl01/2\", \"motor2\")\n",
    "# print(call_in_bluesky_event_loop(motor1.read()))\n",
    "# RE(count([motor1],num=10,delay=None), LiveTable(['motor1:Position']))\n",
    "#RE(scan([],motor1,0,1,11), LiveTable(['motor1:Position']))\n",
    "RE(scan([],motor1,0,1,motor2,5,10,11), LivePlot('motor1:Position','motor2:Position'))"
   ]
  },
  {
   "cell_type": "code",
   "execution_count": null,
   "id": "polyphonic-cologne",
   "metadata": {},
   "outputs": [],
   "source": []
  }
 ],
 "metadata": {
  "kernelspec": {
   "display_name": "Python 3",
   "language": "python",
   "name": "python3"
  },
  "language_info": {
   "codemirror_mode": {
    "name": "ipython",
    "version": 3
   },
   "file_extension": ".py",
   "mimetype": "text/x-python",
   "name": "python",
   "nbconvert_exporter": "python",
   "pygments_lexer": "ipython3",
   "version": "3.9.2"
  }
 },
 "nbformat": 4,
 "nbformat_minor": 5
}
